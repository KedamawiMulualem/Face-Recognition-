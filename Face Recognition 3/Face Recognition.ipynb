{
 "cells": [
  {
   "cell_type": "markdown",
   "metadata": {},
   "source": [
    "# Data pre-processing"
   ]
  },
  {
   "cell_type": "code",
   "execution_count": 1,
   "metadata": {},
   "outputs": [
    {
     "name": "stderr",
     "output_type": "stream",
     "text": [
      "C:\\Users\\kedam\\AppData\\Local\\Continuum\\anaconda3\\lib\\site-packages\\h5py\\__init__.py:34: FutureWarning: Conversion of the second argument of issubdtype from `float` to `np.floating` is deprecated. In future, it will be treated as `np.float64 == np.dtype(float).type`.\n",
      "  from ._conv import register_converters as _register_converters\n"
     ]
    },
    {
     "ename": "ValueError",
     "evalue": "Only know how to handle extensions: ['png']; with Pillow installed matplotlib can handle more images",
     "output_type": "error",
     "traceback": [
      "\u001b[1;31m---------------------------------------------------------------------------\u001b[0m",
      "\u001b[1;31mValueError\u001b[0m                                Traceback (most recent call last)",
      "\u001b[1;32m<ipython-input-1-be428539e679>\u001b[0m in \u001b[0;36m<module>\u001b[1;34m()\u001b[0m\n\u001b[0;32m     27\u001b[0m             \u001b[0mprint\u001b[0m \u001b[1;33m(\u001b[0m\u001b[1;34m\"Cannot detect face in: \"\u001b[0m\u001b[1;33m,\u001b[0m \u001b[0mi\u001b[0m\u001b[1;33m)\u001b[0m\u001b[1;33m\u001b[0m\u001b[0m\n\u001b[0;32m     28\u001b[0m \u001b[1;33m\u001b[0m\u001b[0m\n\u001b[1;32m---> 29\u001b[1;33m \u001b[0mcreate_training_inputs\u001b[0m\u001b[1;33m(\u001b[0m\u001b[1;34m\"Training_Data/Khoi/*.jpg\"\u001b[0m\u001b[1;33m,\u001b[0m \u001b[0mimages\u001b[0m\u001b[1;33m,\u001b[0m \u001b[0mface_detector\u001b[0m\u001b[1;33m,\u001b[0m \u001b[0mshape_predictor\u001b[0m\u001b[1;33m,\u001b[0m \u001b[0mface_recognition_model\u001b[0m\u001b[1;33m)\u001b[0m\u001b[1;33m\u001b[0m\u001b[0m\n\u001b[0m\u001b[0;32m     30\u001b[0m \u001b[0mcreate_training_inputs\u001b[0m\u001b[1;33m(\u001b[0m\u001b[1;34m\"Training_Data/KD/*.jpg\"\u001b[0m\u001b[1;33m,\u001b[0m \u001b[0mimages\u001b[0m\u001b[1;33m,\u001b[0m \u001b[0mface_detector\u001b[0m\u001b[1;33m,\u001b[0m \u001b[0mshape_predictor\u001b[0m\u001b[1;33m,\u001b[0m \u001b[0mface_recognition_model\u001b[0m\u001b[1;33m)\u001b[0m\u001b[1;33m\u001b[0m\u001b[0m\n\u001b[0;32m     31\u001b[0m \u001b[1;33m\u001b[0m\u001b[0m\n",
      "\u001b[1;32m<ipython-input-1-be428539e679>\u001b[0m in \u001b[0;36mcreate_training_inputs\u001b[1;34m(data_path, container, face_detector, shape_predictor, face_recognition_model)\u001b[0m\n\u001b[0;32m     16\u001b[0m \u001b[1;32mdef\u001b[0m \u001b[0mcreate_training_inputs\u001b[0m\u001b[1;33m(\u001b[0m\u001b[0mdata_path\u001b[0m\u001b[1;33m,\u001b[0m \u001b[0mcontainer\u001b[0m\u001b[1;33m,\u001b[0m \u001b[0mface_detector\u001b[0m\u001b[1;33m,\u001b[0m \u001b[0mshape_predictor\u001b[0m\u001b[1;33m,\u001b[0m \u001b[0mface_recognition_model\u001b[0m\u001b[1;33m)\u001b[0m\u001b[1;33m:\u001b[0m\u001b[1;33m\u001b[0m\u001b[0m\n\u001b[0;32m     17\u001b[0m     \u001b[1;32mfor\u001b[0m \u001b[0mi\u001b[0m\u001b[1;33m,\u001b[0m \u001b[0mfile_name\u001b[0m \u001b[1;32min\u001b[0m \u001b[0menumerate\u001b[0m\u001b[1;33m(\u001b[0m\u001b[0mglob\u001b[0m\u001b[1;33m.\u001b[0m\u001b[0mglob\u001b[0m\u001b[1;33m(\u001b[0m\u001b[0mdata_path\u001b[0m\u001b[1;33m)\u001b[0m\u001b[1;33m)\u001b[0m\u001b[1;33m:\u001b[0m\u001b[1;33m\u001b[0m\u001b[0m\n\u001b[1;32m---> 18\u001b[1;33m         \u001b[0mim\u001b[0m \u001b[1;33m=\u001b[0m \u001b[0mmpimg\u001b[0m\u001b[1;33m.\u001b[0m\u001b[0mimread\u001b[0m\u001b[1;33m(\u001b[0m\u001b[0mfile_name\u001b[0m\u001b[1;33m)\u001b[0m\u001b[1;33m\u001b[0m\u001b[0m\n\u001b[0m\u001b[0;32m     19\u001b[0m         \u001b[0mfaces\u001b[0m \u001b[1;33m=\u001b[0m \u001b[0mface_detector\u001b[0m\u001b[1;33m(\u001b[0m\u001b[0mim\u001b[0m\u001b[1;33m,\u001b[0m \u001b[1;36m1\u001b[0m\u001b[1;33m)\u001b[0m\u001b[1;33m\u001b[0m\u001b[0m\n\u001b[0;32m     20\u001b[0m         \u001b[0mshapes\u001b[0m \u001b[1;33m=\u001b[0m \u001b[1;33m[\u001b[0m\u001b[0mshape_predictor\u001b[0m\u001b[1;33m(\u001b[0m\u001b[0mim\u001b[0m\u001b[1;33m,\u001b[0m \u001b[0mface\u001b[0m\u001b[1;33m)\u001b[0m \u001b[1;32mfor\u001b[0m \u001b[0mface\u001b[0m \u001b[1;32min\u001b[0m \u001b[0mfaces\u001b[0m\u001b[1;33m]\u001b[0m\u001b[1;33m\u001b[0m\u001b[0m\n",
      "\u001b[1;32m~\\AppData\\Local\\Continuum\\anaconda3\\lib\\site-packages\\matplotlib\\image.py\u001b[0m in \u001b[0;36mimread\u001b[1;34m(fname, format)\u001b[0m\n\u001b[0;32m   1358\u001b[0m             raise ValueError('Only know how to handle extensions: %s; '\n\u001b[0;32m   1359\u001b[0m                              \u001b[1;34m'with Pillow installed matplotlib can handle '\u001b[0m\u001b[1;33m\u001b[0m\u001b[0m\n\u001b[1;32m-> 1360\u001b[1;33m                              'more images' % list(handlers))\n\u001b[0m\u001b[0;32m   1361\u001b[0m         \u001b[1;32mreturn\u001b[0m \u001b[0mim\u001b[0m\u001b[1;33m\u001b[0m\u001b[0m\n\u001b[0;32m   1362\u001b[0m \u001b[1;33m\u001b[0m\u001b[0m\n",
      "\u001b[1;31mValueError\u001b[0m: Only know how to handle extensions: ['png']; with Pillow installed matplotlib can handle more images"
     ]
    }
   ],
   "source": [
    "import dlib\n",
    "import cv2\n",
    "import tensorflow as tf\n",
    "import glob\n",
    "import numpy as np\n",
    "import matplotlib.image as mpimg\n",
    "face_detector = dlib.get_frontal_face_detector()\n",
    "\n",
    "shape_predictor = dlib.shape_predictor('Files/shape_predictor_68_face_landmarks.dat')\n",
    "\n",
    "face_recognition_model = dlib.face_recognition_model_v1('Files/dlib_face_recognition_resnet_model_v1.dat')\n",
    "\n",
    "\n",
    "images = []\n",
    "\n",
    "def create_training_inputs(data_path, container, face_detector, shape_predictor, face_recognition_model):\n",
    "    for i, file_name in enumerate(glob.glob(data_path)):\n",
    "        im = mpimg.imread(file_name)\n",
    "        faces = face_detector(im, 1)\n",
    "        shapes = [shape_predictor(im, face) for face in faces]\n",
    "        if len(shapes) != 0:\n",
    "            face_ids = [face_recognition_model.compute_face_descriptor(im, shape, 1) for shape in shapes]\n",
    "            face_ids_array = np.array(face_ids)\n",
    "            face_ids_list = face_ids_array.tolist()[0]\n",
    "            container.append(face_ids_list)\n",
    "        else:\n",
    "            print (\"Cannot detect face in: \", i)\n",
    "        \n",
    "create_training_inputs(\"Training_Data/Khoi/*.jpg\", images, face_detector, shape_predictor, face_recognition_model)\n",
    "create_training_inputs(\"Training_Data/KD/*.jpg\", images, face_detector, shape_predictor, face_recognition_model)\n",
    "\n",
    "Inputs = np.array(images)\n",
    "\n",
    "print (\"Inputs shape: \",Inputs.shape)"
   ]
  },
  {
   "cell_type": "code",
   "execution_count": 2,
   "metadata": {},
   "outputs": [
    {
     "ename": "NameError",
     "evalue": "name 'Inputs' is not defined",
     "output_type": "error",
     "traceback": [
      "\u001b[1;31m---------------------------------------------------------------------------\u001b[0m",
      "\u001b[1;31mNameError\u001b[0m                                 Traceback (most recent call last)",
      "\u001b[1;32m<ipython-input-2-ad272983352b>\u001b[0m in \u001b[0;36m<module>\u001b[1;34m()\u001b[0m\n\u001b[0;32m      2\u001b[0m \u001b[1;32mwith\u001b[0m \u001b[0mopen\u001b[0m\u001b[1;33m(\u001b[0m\u001b[1;34m'Files/Inputs.csv'\u001b[0m\u001b[1;33m,\u001b[0m \u001b[1;34m'w'\u001b[0m\u001b[1;33m)\u001b[0m \u001b[1;32mas\u001b[0m \u001b[0mf\u001b[0m\u001b[1;33m:\u001b[0m\u001b[1;33m\u001b[0m\u001b[0m\n\u001b[0;32m      3\u001b[0m     \u001b[0mwriter\u001b[0m \u001b[1;33m=\u001b[0m \u001b[0mcsv\u001b[0m\u001b[1;33m.\u001b[0m\u001b[0mwriter\u001b[0m\u001b[1;33m(\u001b[0m\u001b[0mf\u001b[0m\u001b[1;33m)\u001b[0m\u001b[1;33m\u001b[0m\u001b[0m\n\u001b[1;32m----> 4\u001b[1;33m     \u001b[0mwriter\u001b[0m\u001b[1;33m.\u001b[0m\u001b[0mwriterows\u001b[0m\u001b[1;33m(\u001b[0m\u001b[0mInputs\u001b[0m\u001b[1;33m)\u001b[0m\u001b[1;33m\u001b[0m\u001b[0m\n\u001b[0m",
      "\u001b[1;31mNameError\u001b[0m: name 'Inputs' is not defined"
     ]
    }
   ],
   "source": [
    "import csv\n",
    "with open('Files/Inputs.csv', 'w') as f:\n",
    "    writer = csv.writer(f)\n",
    "    writer.writerows(Inputs)"
   ]
  },
  {
   "cell_type": "code",
   "execution_count": null,
   "metadata": {
    "collapsed": true
   },
   "outputs": [],
   "source": [
    "import csv\n",
    "import numpy as np\n",
    "\n",
    "images = []\n",
    "\n",
    "with open('Files/Inputs.csv', 'r') as f:\n",
    "    reader = csv.reader(f)\n",
    "    for row in reader:\n",
    "        images.append(row)\n",
    "        \n",
    "Inputs = np.array(images).astype(float)\n",
    "print (\"Inputs shape recovered: \", Inputs.shape)\n"
   ]
  },
  {
   "cell_type": "code",
   "execution_count": null,
   "metadata": {
    "collapsed": true
   },
   "outputs": [],
   "source": [
    "labels = []\n",
    "\n",
    "khoi = [1, 0]\n",
    "kd = [0, 1]\n",
    "\n",
    "def create_training_labels(data_path, container, label):\n",
    "    for file_name in glob.glob(data_path):\n",
    "        container.append(label)\n",
    "        \n",
    "create_training_labels(\"Training_Data/Khoi/*.jpg\", labels, khoi)\n",
    "create_training_labels(\"Training_Data/KD/*.jpg\", labels, kd)\n",
    "\n",
    "Labels = np.array(labels)\n",
    "\n",
    "print (\"Labels shape: \", Labels.shape)\n"
   ]
  },
  {
   "cell_type": "markdown",
   "metadata": {},
   "source": [
    "# Build Computational Graph - Tensorflow"
   ]
  },
  {
   "cell_type": "code",
   "execution_count": 3,
   "metadata": {},
   "outputs": [
    {
     "name": "stdout",
     "output_type": "stream",
     "text": [
      "WARNING:tensorflow:From <ipython-input-3-106d57b119f4>:36: softmax_cross_entropy_with_logits (from tensorflow.python.ops.nn_ops) is deprecated and will be removed in a future version.\n",
      "Instructions for updating:\n",
      "\n",
      "Future major versions of TensorFlow will allow gradients to flow\n",
      "into the labels input on backprop by default.\n",
      "\n",
      "See tf.nn.softmax_cross_entropy_with_logits_v2.\n",
      "\n"
     ]
    }
   ],
   "source": [
    "import tensorflow as tf\n",
    "\n",
    "# Hyperparameter\n",
    "hidden_size1 = 200\n",
    "hidden_size2 = 100\n",
    "\n",
    "\n",
    "# Create placeholders\n",
    "X  = tf.placeholder(tf.float32, [None, 128])\n",
    "Y_ = tf.placeholder(tf.float32, [None, 2])\n",
    "lr = tf.placeholder(tf.float32)\n",
    "pkeep = tf.placeholder(tf.float32)\n",
    "\n",
    "# Create variables\n",
    "w1 = tf.Variable(tf.truncated_normal([128, hidden_size1], stddev=0.1), tf.float32)\n",
    "b1 = tf.Variable(tf.ones([hidden_size1])/10)\n",
    "\n",
    "w2 = tf.Variable(tf.truncated_normal([hidden_size1, hidden_size2], stddev=0.1), tf.float32)\n",
    "b2 = tf.Variable(tf.ones([hidden_size2])/10)\n",
    "\n",
    "w3 = tf.Variable(tf.truncated_normal([hidden_size2, 2], stddev=0.1), tf.float32)\n",
    "b3 = tf.Variable(tf.ones([2])/10)\n",
    "\n",
    "Y1 = tf.matmul(X, w1) + b1\n",
    "Y1 = tf.nn.relu(Y1)\n",
    "\n",
    "Y2 = tf.matmul(Y1, w2) + b2\n",
    "Y2 = tf.nn.relu(Y2)\n",
    "\n",
    "Ydrop = tf.nn.dropout(Y2, pkeep)\n",
    "\n",
    "Ylogits = tf.matmul(Ydrop, w3) + b3\n",
    "Y = tf.nn.softmax(Ylogits)\n",
    "\n",
    "# Loss (Cross-entropy)\n",
    "loss = tf.nn.softmax_cross_entropy_with_logits(logits=Ylogits, labels=Y_)\n",
    "\n",
    "# Optimizer\n",
    "optimizer = tf.train.AdamOptimizer(lr).minimize(loss)\n",
    "\n",
    "# Accuracy\n",
    "is_correct = tf.equal(tf.argmax(Y,1), tf.argmax(Y_,1))\n",
    "accuracy = tf.reduce_mean(tf.cast(is_correct, tf.float32))\n",
    "\n",
    "# Initializer\n",
    "init = tf.global_variables_initializer()\n",
    "saver = tf.train.Saver()"
   ]
  },
  {
   "cell_type": "markdown",
   "metadata": {},
   "source": [
    "# Training Process"
   ]
  },
  {
   "cell_type": "code",
   "execution_count": 4,
   "metadata": {},
   "outputs": [
    {
     "ename": "NameError",
     "evalue": "name 'Inputs' is not defined",
     "output_type": "error",
     "traceback": [
      "\u001b[1;31m---------------------------------------------------------------------------\u001b[0m",
      "\u001b[1;31mNameError\u001b[0m                                 Traceback (most recent call last)",
      "\u001b[1;32m<ipython-input-4-34ed0349d146>\u001b[0m in \u001b[0;36m<module>\u001b[1;34m()\u001b[0m\n\u001b[0;32m      2\u001b[0m     \u001b[0msess\u001b[0m\u001b[1;33m.\u001b[0m\u001b[0mrun\u001b[0m\u001b[1;33m(\u001b[0m\u001b[0minit\u001b[0m\u001b[1;33m)\u001b[0m\u001b[1;33m\u001b[0m\u001b[0m\n\u001b[0;32m      3\u001b[0m \u001b[1;33m\u001b[0m\u001b[0m\n\u001b[1;32m----> 4\u001b[1;33m     \u001b[0mtrain_dict\u001b[0m \u001b[1;33m=\u001b[0m \u001b[1;33m{\u001b[0m\u001b[0mX\u001b[0m\u001b[1;33m:\u001b[0m \u001b[0mInputs\u001b[0m\u001b[1;33m,\u001b[0m \u001b[0mY_\u001b[0m\u001b[1;33m:\u001b[0m \u001b[0mLabels\u001b[0m\u001b[1;33m,\u001b[0m \u001b[0mlr\u001b[0m\u001b[1;33m:\u001b[0m \u001b[1;36m0.0001\u001b[0m\u001b[1;33m,\u001b[0m \u001b[0mpkeep\u001b[0m\u001b[1;33m:\u001b[0m \u001b[1;36m0.9\u001b[0m\u001b[1;33m}\u001b[0m\u001b[1;33m\u001b[0m\u001b[0m\n\u001b[0m\u001b[0;32m      5\u001b[0m     \u001b[1;31m# Training\u001b[0m\u001b[1;33m\u001b[0m\u001b[1;33m\u001b[0m\u001b[0m\n\u001b[0;32m      6\u001b[0m     \u001b[1;32mfor\u001b[0m \u001b[0mi\u001b[0m \u001b[1;32min\u001b[0m \u001b[0mrange\u001b[0m\u001b[1;33m(\u001b[0m\u001b[1;36m1000\u001b[0m\u001b[1;33m)\u001b[0m\u001b[1;33m:\u001b[0m\u001b[1;33m\u001b[0m\u001b[0m\n",
      "\u001b[1;31mNameError\u001b[0m: name 'Inputs' is not defined"
     ]
    }
   ],
   "source": [
    "with tf.Session() as sess:\n",
    "    sess.run(init)\n",
    "    \n",
    "    train_dict = {X: Inputs, Y_: Labels, lr: 0.0001, pkeep: 0.9}\n",
    "    # Training\n",
    "    for i in range(1000):\n",
    "        sess.run(optimizer, feed_dict=train_dict)\n",
    "        \n",
    "        # Accuracy\n",
    "        if i % 100 == 0:\n",
    "            A, C = sess.run([accuracy, loss], feed_dict=train_dict)\n",
    "            print (\"At iteration: %s, Loss: %s, Accuracy: %s\" % (i,sum(C),A))\n",
    "    \n",
    "    save_path = saver.save(sess, \"Checkpoint/model.ckpt\")\n",
    "    print(\"Model saved in file: %s\" % save_path)"
   ]
  },
  {
   "cell_type": "code",
   "execution_count": 5,
   "metadata": {},
   "outputs": [
    {
     "ename": "ValueError",
     "evalue": "Only know how to handle extensions: ['png']; with Pillow installed matplotlib can handle more images",
     "output_type": "error",
     "traceback": [
      "\u001b[1;31m---------------------------------------------------------------------------\u001b[0m",
      "\u001b[1;31mValueError\u001b[0m                                Traceback (most recent call last)",
      "\u001b[1;32m<ipython-input-5-73d7f8ca0d94>\u001b[0m in \u001b[0;36m<module>\u001b[1;34m()\u001b[0m\n\u001b[0;32m     13\u001b[0m \u001b[0mknown_faces\u001b[0m \u001b[1;33m=\u001b[0m \u001b[1;33m[\u001b[0m\u001b[1;33m]\u001b[0m\u001b[1;33m\u001b[0m\u001b[0m\n\u001b[0;32m     14\u001b[0m \u001b[1;33m\u001b[0m\u001b[0m\n\u001b[1;32m---> 15\u001b[1;33m \u001b[0mim\u001b[0m \u001b[1;33m=\u001b[0m \u001b[0mmpimg\u001b[0m\u001b[1;33m.\u001b[0m\u001b[0mimread\u001b[0m\u001b[1;33m(\u001b[0m\u001b[1;34m\"Khoi1.jpg\"\u001b[0m\u001b[1;33m)\u001b[0m\u001b[1;33m\u001b[0m\u001b[0m\n\u001b[0m\u001b[0;32m     16\u001b[0m \u001b[0mfaces\u001b[0m \u001b[1;33m=\u001b[0m \u001b[0mface_detector\u001b[0m\u001b[1;33m(\u001b[0m\u001b[0mim\u001b[0m\u001b[1;33m,\u001b[0m \u001b[1;36m1\u001b[0m\u001b[1;33m)\u001b[0m\u001b[1;33m\u001b[0m\u001b[0m\n\u001b[0;32m     17\u001b[0m \u001b[0mshapes\u001b[0m \u001b[1;33m=\u001b[0m \u001b[1;33m[\u001b[0m\u001b[0mshape_predictor\u001b[0m\u001b[1;33m(\u001b[0m\u001b[0mim\u001b[0m\u001b[1;33m,\u001b[0m \u001b[0mface\u001b[0m\u001b[1;33m)\u001b[0m \u001b[1;32mfor\u001b[0m \u001b[0mface\u001b[0m \u001b[1;32min\u001b[0m \u001b[0mfaces\u001b[0m\u001b[1;33m]\u001b[0m\u001b[1;33m\u001b[0m\u001b[0m\n",
      "\u001b[1;32m~\\AppData\\Local\\Continuum\\anaconda3\\lib\\site-packages\\matplotlib\\image.py\u001b[0m in \u001b[0;36mimread\u001b[1;34m(fname, format)\u001b[0m\n\u001b[0;32m   1282\u001b[0m             raise ValueError('Only know how to handle extensions: %s; '\n\u001b[0;32m   1283\u001b[0m                              \u001b[1;34m'with Pillow installed matplotlib can handle '\u001b[0m\u001b[1;33m\u001b[0m\u001b[0m\n\u001b[1;32m-> 1284\u001b[1;33m                              'more images' % list(handlers))\n\u001b[0m\u001b[0;32m   1285\u001b[0m         \u001b[1;32mreturn\u001b[0m \u001b[0mim\u001b[0m\u001b[1;33m\u001b[0m\u001b[0m\n\u001b[0;32m   1286\u001b[0m \u001b[1;33m\u001b[0m\u001b[0m\n",
      "\u001b[1;31mValueError\u001b[0m: Only know how to handle extensions: ['png']; with Pillow installed matplotlib can handle more images"
     ]
    }
   ],
   "source": [
    "import numpy as np\n",
    "import dlib\n",
    "import matplotlib.image as mpimg\n",
    "\n",
    "\n",
    "face_detector = dlib.get_frontal_face_detector()\n",
    "\n",
    "shape_predictor = dlib.shape_predictor('Files/shape_predictor_68_face_landmarks.dat')\n",
    "\n",
    "face_recognition_model = dlib.face_recognition_model_v1('Files/dlib_face_recognition_resnet_model_v1.dat')\n",
    "\n",
    "\n",
    "known_faces = []\n",
    "\n",
    "im = mpimg.imread(\"Khoi1.jpg\")\n",
    "faces = face_detector(im, 1)\n",
    "shapes = [shape_predictor(im, face) for face in faces]\n",
    "if len(shapes) != 0:\n",
    "    face_ids = [face_recognition_model.compute_face_descriptor(im, shape, 1) for shape in shapes]\n",
    "    face_ids_array = np.array(face_ids)\n",
    "    face_ids_list = face_ids_array.tolist()[0]\n",
    "    known_faces.append(face_ids_list)\n",
    "\n",
    "im = mpimg.imread(\"KD1.jpg\")\n",
    "faces = face_detector(im, 1)\n",
    "shapes = [shape_predictor(im, face) for face in faces]\n",
    "if len(shapes) != 0:\n",
    "    face_ids = [face_recognition_model.compute_face_descriptor(im, shape, 1) for shape in shapes]\n",
    "    face_ids_array = np.array(face_ids)\n",
    "    face_ids_list = face_ids_array.tolist()[0]\n",
    "    known_faces.append(face_ids_list)\n",
    "    \n",
    "\n",
    "    \n",
    "print (len(known_faces))\n"
   ]
  },
  {
   "cell_type": "markdown",
   "metadata": {},
   "source": [
    "# Running Application "
   ]
  },
  {
   "cell_type": "code",
   "execution_count": 6,
   "metadata": {},
   "outputs": [
    {
     "name": "stdout",
     "output_type": "stream",
     "text": [
      "INFO:tensorflow:Restoring parameters from Checkpoint/model.ckpt\n",
      "Model restored.\n"
     ]
    },
    {
     "ename": "IndexError",
     "evalue": "list index out of range",
     "output_type": "error",
     "traceback": [
      "\u001b[1;31m---------------------------------------------------------------------------\u001b[0m",
      "\u001b[1;31mIndexError\u001b[0m                                Traceback (most recent call last)",
      "\u001b[1;32m<ipython-input-6-c1fbf2da1cc9>\u001b[0m in \u001b[0;36m<module>\u001b[1;34m()\u001b[0m\n\u001b[0;32m     95\u001b[0m     \u001b[1;32mwhile\u001b[0m \u001b[1;32mTrue\u001b[0m\u001b[1;33m:\u001b[0m\u001b[1;33m\u001b[0m\u001b[0m\n\u001b[0;32m     96\u001b[0m         \u001b[0mret\u001b[0m\u001b[1;33m,\u001b[0m \u001b[0mframe\u001b[0m \u001b[1;33m=\u001b[0m \u001b[0mcap\u001b[0m\u001b[1;33m.\u001b[0m\u001b[0mread\u001b[0m\u001b[1;33m(\u001b[0m\u001b[1;33m)\u001b[0m\u001b[1;33m\u001b[0m\u001b[0m\n\u001b[1;32m---> 97\u001b[1;33m         \u001b[0mcv2\u001b[0m\u001b[1;33m.\u001b[0m\u001b[0mimshow\u001b[0m\u001b[1;33m(\u001b[0m\u001b[1;34m'Live stream'\u001b[0m\u001b[1;33m,\u001b[0m \u001b[0mdetect_face\u001b[0m\u001b[1;33m(\u001b[0m\u001b[0mframe\u001b[0m\u001b[1;33m,\u001b[0m \u001b[0msess\u001b[0m\u001b[1;33m,\u001b[0m \u001b[0mknown_faces\u001b[0m\u001b[1;33m)\u001b[0m\u001b[1;33m)\u001b[0m\u001b[1;33m\u001b[0m\u001b[0m\n\u001b[0m\u001b[0;32m     98\u001b[0m         \u001b[1;32mif\u001b[0m \u001b[0mcv2\u001b[0m\u001b[1;33m.\u001b[0m\u001b[0mwaitKey\u001b[0m\u001b[1;33m(\u001b[0m\u001b[1;36m1\u001b[0m\u001b[1;33m)\u001b[0m \u001b[1;33m==\u001b[0m \u001b[1;36m13\u001b[0m\u001b[1;33m:\u001b[0m\u001b[1;33m\u001b[0m\u001b[0m\n\u001b[0;32m     99\u001b[0m             \u001b[1;32mbreak\u001b[0m\u001b[1;33m\u001b[0m\u001b[0m\n",
      "\u001b[1;32m<ipython-input-6-c1fbf2da1cc9>\u001b[0m in \u001b[0;36mdetect_face\u001b[1;34m(im, sess, known_faces)\u001b[0m\n\u001b[0;32m     72\u001b[0m \u001b[1;33m\u001b[0m\u001b[0m\n\u001b[0;32m     73\u001b[0m             \u001b[1;32melif\u001b[0m \u001b[0mnp\u001b[0m\u001b[1;33m.\u001b[0m\u001b[0margmax\u001b[0m\u001b[1;33m(\u001b[0m\u001b[0mresult\u001b[0m\u001b[1;33m)\u001b[0m \u001b[1;33m==\u001b[0m \u001b[1;36m1\u001b[0m\u001b[1;33m:\u001b[0m\u001b[1;33m\u001b[0m\u001b[0m\n\u001b[1;32m---> 74\u001b[1;33m                 \u001b[1;32mif\u001b[0m \u001b[0mnp\u001b[0m\u001b[1;33m.\u001b[0m\u001b[0mlinalg\u001b[0m\u001b[1;33m.\u001b[0m\u001b[0mnorm\u001b[0m\u001b[1;33m(\u001b[0m\u001b[0mtest_input\u001b[0m\u001b[1;33m[\u001b[0m\u001b[0mi\u001b[0m\u001b[1;33m]\u001b[0m \u001b[1;33m-\u001b[0m \u001b[0mknown_faces\u001b[0m\u001b[1;33m[\u001b[0m\u001b[1;36m1\u001b[0m\u001b[1;33m]\u001b[0m\u001b[1;33m)\u001b[0m \u001b[1;33m<\u001b[0m \u001b[1;36m0.45\u001b[0m\u001b[1;33m:\u001b[0m\u001b[1;33m\u001b[0m\u001b[0m\n\u001b[0m\u001b[0;32m     75\u001b[0m                     \u001b[0mpredicted_face\u001b[0m \u001b[1;33m=\u001b[0m \u001b[1;34m\"KD face \"\u001b[0m \u001b[1;33m+\u001b[0m \u001b[0mstr\u001b[0m\u001b[1;33m(\u001b[0m\u001b[0mconfidence\u001b[0m\u001b[1;33m)\u001b[0m \u001b[1;33m+\u001b[0m \u001b[1;34m\" %\"\u001b[0m\u001b[1;33m\u001b[0m\u001b[0m\n\u001b[0;32m     76\u001b[0m                 \u001b[1;32melse\u001b[0m\u001b[1;33m:\u001b[0m\u001b[1;33m\u001b[0m\u001b[0m\n",
      "\u001b[1;31mIndexError\u001b[0m: list index out of range"
     ]
    }
   ],
   "source": [
    "import tensorflow as tf\n",
    "import numpy as np\n",
    "import dlib\n",
    "import cv2\n",
    "\n",
    "\n",
    "\n",
    "face_detector = dlib.get_frontal_face_detector()\n",
    "\n",
    "shape_predictor = dlib.shape_predictor('Files/shape_predictor_68_face_landmarks.dat')\n",
    "\n",
    "face_recognition_model = dlib.face_recognition_model_v1('Files/dlib_face_recognition_resnet_model_v1.dat')\n",
    "\n",
    "\n",
    "\n",
    "def detect_face(im, sess, known_faces):\n",
    "    images_test = []\n",
    "    faces = face_detector(im, 1)\n",
    "    shapes = [shape_predictor(im, face) for face in faces]\n",
    "    face_ids = [face_recognition_model.compute_face_descriptor(im, shape, 1) for shape in shapes]\n",
    "    face_ids_array = np.array(face_ids)\n",
    "    \n",
    "#     in_test_set = True\n",
    "#     unknown_faces = []\n",
    "    \n",
    "#     for i, face in enumerate(face_ids_array):\n",
    "#         for known_face in known_faces:\n",
    "#             thresh_hold = np.linalg.norm(known_face - face)\n",
    "#             if thresh_hold > 0.45:\n",
    "#                 in_test_set = False\n",
    "#             else:\n",
    "#                 in_test_set = True\n",
    "#                 break\n",
    "        \n",
    "#         if not in_test_set:\n",
    "#             font = cv2.FONT_HERSHEY_SIMPLEX\n",
    "#             cv2.putText(im,\"Unknown Face\",(faces[i].left()-50,faces[i].top()-50), font, 2,(0,255,0),2,cv2.LINE_AA)\n",
    "\n",
    "#             cv2.rectangle(im,(faces[i].left(),faces[i].top()),(faces[i].right(),faces[i].bottom()),(255,0,0),2)\n",
    "#             unknown_faces.append(i)\n",
    "            \n",
    "        \n",
    "\n",
    "\n",
    "\n",
    "    face_ids_list = face_ids_array.tolist()\n",
    "    \n",
    "#     print (len(face_ids_list))\n",
    "#     print (\"ID: \", unknown_faces)\n",
    "    \n",
    "#     if len(unknown_faces) != 0 and len(face_ids_list) != 0:\n",
    "#         for i, index in enumerate(unknown_faces):\n",
    "#             face_ids_list.pop(index - i)\n",
    "\n",
    "    \n",
    "    [images_test.append(face_id) for face_id in face_ids_list]\n",
    "    \n",
    "    if len(images_test) != 0:\n",
    "        test_input = np.array(images_test)\n",
    "\n",
    "        test_dict = {X: test_input, pkeep: 0.9}\n",
    "\n",
    "        Y_predict = sess.run(Y, feed_dict=test_dict)\n",
    "\n",
    "        for i, result in enumerate(Y_predict):\n",
    "            confidence = round(result[np.argmax(result)] * 100, 2)\n",
    "            if np.argmax(result) == 0:\n",
    "                if np.linalg.norm(test_input[i] - known_faces[0]) < 0.45:\n",
    "                    predicted_face = \"Khoi face \" + str(confidence) + \" %\"\n",
    "                else:\n",
    "                    predicted_face = \"Unknown\"\n",
    "                    \n",
    "            elif np.argmax(result) == 1:\n",
    "                if np.linalg.norm(test_input[i] - known_faces[1]) < 0.45:\n",
    "                    predicted_face = \"KD face \" + str(confidence) + \" %\"\n",
    "                else:\n",
    "                    predicted_face = \"Unknown\"\n",
    "\n",
    "            font = cv2.FONT_HERSHEY_SIMPLEX\n",
    "            \n",
    "            if predicted_face == \"Unknown\":\n",
    "                cv2.putText(im,predicted_face,(faces[i].left()-50,faces[i].top()-50), font, 2,(0,0,255),2,cv2.LINE_AA)\n",
    "            else:\n",
    "                cv2.putText(im,predicted_face,(faces[i].left()-50,faces[i].top()-50), font, 2,(0,255,0),2,cv2.LINE_AA)\n",
    "            cv2.rectangle(im,(faces[i].left(),faces[i].top()),(faces[i].right(),faces[i].bottom()),(255,0,0),2)\n",
    "    \n",
    "    return im\n",
    "\n",
    "cap = cv2.VideoCapture(0)\n",
    "\n",
    "with tf.Session() as sess:\n",
    "    saver.restore(sess, \"Checkpoint/model.ckpt\")\n",
    "    print(\"Model restored.\")\n",
    "\n",
    "    while True:\n",
    "        ret, frame = cap.read()\n",
    "        cv2.imshow('Live stream', detect_face(frame, sess, known_faces))\n",
    "        if cv2.waitKey(1) == 13:\n",
    "            break\n",
    "\n",
    "cap.release()\n",
    "cv2.destroyAllWindows() "
   ]
  },
  {
   "cell_type": "code",
   "execution_count": null,
   "metadata": {
    "collapsed": true
   },
   "outputs": [],
   "source": []
  }
 ],
 "metadata": {
  "kernelspec": {
   "display_name": "Python 3",
   "language": "python",
   "name": "python3"
  },
  "language_info": {
   "codemirror_mode": {
    "name": "ipython",
    "version": 3
   },
   "file_extension": ".py",
   "mimetype": "text/x-python",
   "name": "python",
   "nbconvert_exporter": "python",
   "pygments_lexer": "ipython3",
   "version": "3.6.3"
  }
 },
 "nbformat": 4,
 "nbformat_minor": 2
}
